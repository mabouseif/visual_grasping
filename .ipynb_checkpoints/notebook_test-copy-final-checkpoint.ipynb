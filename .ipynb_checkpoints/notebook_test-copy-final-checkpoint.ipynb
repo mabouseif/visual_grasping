{
 "cells": [
  {
   "cell_type": "code",
   "execution_count": 1,
   "metadata": {},
   "outputs": [],
   "source": [
    "import numpy as np\n",
    "import matplotlib.pyplot as plt\n",
    "from mpl_toolkits.mplot3d import Axes3D\n",
    "import cv2\n",
    "import torch\n",
    "from torch.autograd import Variable\n",
    "import torch.nn.functional as F\n",
    "import torchvision\n",
    "import copy\n",
    "import time\n",
    "import random\n",
    "import skimage.transform as trans\n",
    "from old.utils_warp import *\n",
    "\n",
    "%matplotlib inline"
   ]
  },
  {
   "cell_type": "code",
   "execution_count": 6,
   "metadata": {},
   "outputs": [
    {
     "name": "stdout",
     "output_type": "stream",
     "text": [
      "0\n",
      "<class 'numpy.ndarray'>\n",
      "(200, 200, 3)\n"
     ]
    },
    {
     "data": {
      "text/plain": [
       "<matplotlib.image.AxesImage at 0x7fadc16a1c50>"
      ]
     },
     "execution_count": 6,
     "metadata": {},
     "output_type": "execute_result"
    },
    {
     "data": {
      "image/png": "[encoded data removed]",
      "text/plain": [
       "<Figure size 1440x720 with 1 Axes>"
      ]
     },
     "metadata": {
      "needs_background": "light"
     },
     "output_type": "display_data"
    }
   ],
   "source": [
    "# log_file = '2020-04-06.22:10:10'\n",
    "# color_img = cv2.imread('/home/mohamed/drive/coppelia_stuff/scripts/logs/'+ log_file + '/data/color-images/000001.0.color.png')\n",
    "\n",
    "color_img = cv2.imread('/home/mohamed/drive/coppelia_stuff/scripts/heightmap_color_multi.png')\n",
    "color_img = cv2.cvtColor(color_img, cv2.COLOR_BGR2RGB)\n",
    "\n",
    "\n",
    "print(np.min(color_img))\n",
    "print(type(color_img))\n",
    "print(color_img.shape)\n",
    "plt.figure(figsize=(20, 10))\n",
    "plt.imshow(color_img)\n",
    "# plt.axis('off')"
   ]
  },
  {
   "cell_type": "code",
   "execution_count": 7,
   "metadata": {},
   "outputs": [
    {
     "ename": "AttributeError",
     "evalue": "'NoneType' object has no attribute 'astype'",
     "output_type": "error",
     "traceback": [
      "\u001b[0;31m---------------------------------------------------------------------------\u001b[0m",
      "\u001b[0;31mAttributeError\u001b[0m                            Traceback (most recent call last)",
      "\u001b[0;32m<ipython-input-7-08b777c6e66d>\u001b[0m in \u001b[0;36m<module>\u001b[0;34m\u001b[0m\n\u001b[1;32m      1\u001b[0m \u001b[0;31m# depth_img = np.load('depth_img.npy')\u001b[0m\u001b[0;34m\u001b[0m\u001b[0;34m\u001b[0m\u001b[0;34m\u001b[0m\u001b[0m\n\u001b[1;32m      2\u001b[0m \u001b[0mdepth_img\u001b[0m \u001b[0;34m=\u001b[0m \u001b[0mcv2\u001b[0m\u001b[0;34m.\u001b[0m\u001b[0mimread\u001b[0m\u001b[0;34m(\u001b[0m\u001b[0;34m'/home/mohamed/drive/coppelia_stuff/scripts/logs/'\u001b[0m\u001b[0;34m+\u001b[0m \u001b[0mlog_file\u001b[0m \u001b[0;34m+\u001b[0m \u001b[0;34m'/data/depth-images/000001.0.depth.png'\u001b[0m\u001b[0;34m,\u001b[0m \u001b[0;34m-\u001b[0m\u001b[0;36m1\u001b[0m\u001b[0;34m)\u001b[0m\u001b[0;34m\u001b[0m\u001b[0;34m\u001b[0m\u001b[0m\n\u001b[0;32m----> 3\u001b[0;31m \u001b[0mdepth_img\u001b[0m \u001b[0;34m=\u001b[0m \u001b[0mdepth_img\u001b[0m\u001b[0;34m.\u001b[0m\u001b[0mastype\u001b[0m\u001b[0;34m(\u001b[0m\u001b[0mnp\u001b[0m\u001b[0;34m.\u001b[0m\u001b[0mfloat32\u001b[0m\u001b[0;34m)\u001b[0m\u001b[0;34m/\u001b[0m\u001b[0;36m10000\u001b[0m\u001b[0;34m\u001b[0m\u001b[0;34m\u001b[0m\u001b[0m\n\u001b[0m\u001b[1;32m      4\u001b[0m \u001b[0;34m\u001b[0m\u001b[0m\n\u001b[1;32m      5\u001b[0m \u001b[0mprint\u001b[0m\u001b[0;34m(\u001b[0m\u001b[0mnp\u001b[0m\u001b[0;34m.\u001b[0m\u001b[0mmin\u001b[0m\u001b[0;34m(\u001b[0m\u001b[0mdepth_img\u001b[0m\u001b[0;34m)\u001b[0m\u001b[0;34m)\u001b[0m\u001b[0;34m\u001b[0m\u001b[0;34m\u001b[0m\u001b[0m\n",
      "\u001b[0;31mAttributeError\u001b[0m: 'NoneType' object has no attribute 'astype'"
     ]
    }
   ],
   "source": [
    "# depth_img = np.load('depth_img.npy')\n",
    "depth_img = cv2.imread('/home/mohamed/drive/coppelia_stuff/scripts/heightmap_depth_multi.png')\n",
    "depth_img = depth_img.astype(np.float32)/10000\n",
    "\n",
    "print(np.min(depth_img))\n",
    "print(np.max(depth_img))\n",
    "print(type(depth_img))\n",
    "print(type(depth_img[0][0]))\n",
    "print((depth_img[230][340]))\n",
    "print(depth_img.shape)\n",
    "plt.figure(figsize=(20, 10))\n",
    "plt.imshow(depth_img, cmap='gray')\n",
    "plt.scatter(340, 230, color='r', marker='+')"
   ]
  },
  {
   "cell_type": "code",
   "execution_count": 8,
   "metadata": {},
   "outputs": [],
   "source": [
    "def get_pointcloud(color_img, depth_img, camera_intrinsics):\n",
    "    # Get depth image size\n",
    "    im_h = depth_img.shape[0]\n",
    "    im_w = depth_img.shape[1]\n",
    "\n",
    "    # Fake intrinsics for now\n",
    "\n",
    "    # Project depth back into 3D point cloud in Camera coordinates (I think he means relative to camera frame)\n",
    "    pix_x, pix_y = np.meshgrid(np.linspace(0, im_w-1, im_w), np.linspace(0, im_h-1, im_h))\n",
    "\n",
    "    cam_pts_x = np.multiply(pix_x-camera_intrinsics[0][2], depth_img/camera_intrinsics[0][0])\n",
    "    cam_pts_y = np.multiply(pix_y-camera_intrinsics[1][2], depth_img/camera_intrinsics[1][1])\n",
    "    cam_pts_z = depth_img.copy()\n",
    "\n",
    "    cam_pts_x.shape = (im_h*im_w, 1)\n",
    "    cam_pts_y.shape = (im_h*im_w, 1)\n",
    "    cam_pts_z.shape = (im_h*im_w, 1)\n",
    "\n",
    "    # Reshape image into colors for 3D point cloud\n",
    "    rgb_pts_r = color_img[:, :, 0].reshape((im_h*im_w, 1))\n",
    "    rgb_pts_g = color_img[:, :, 1].reshape((im_h*im_w, 1))\n",
    "    rgb_pts_b = color_img[:, :, 2].reshape((im_h*im_w, 1))\n",
    "\n",
    "    # It does not matter what the internal values or xyz points of the cam pts are in relation\n",
    "    # to the rgb points. The rgb points only relate the index to color. Position is irrelevant.\n",
    "    cam_pts = np.concatenate((cam_pts_x, cam_pts_y, cam_pts_z), axis=1)\n",
    "    rgb_pts = np.concatenate((rgb_pts_r, rgb_pts_g, rgb_pts_b), axis=1)\n",
    "\n",
    "    return cam_pts, rgb_pts\n",
    "\n",
    "\n",
    "def get_heightmap(color_img, depth_img, cam_intrinsics, cam_pose, workspace_limits, heightmap_resolution):\n",
    "\n",
    "    # Compute heightmap size\n",
    "    heightmap_size = np.round(((workspace_limits[1][1] - workspace_limits[1][0])/heightmap_resolution, (workspace_limits[0][1] - workspace_limits[0][0])/heightmap_resolution)).astype(int)\n",
    "\n",
    "    # Get 3D point cloud from RGB-D images\n",
    "    surface_pts, color_pts = get_pointcloud(color_img, depth_img, cam_intrinsics)\n",
    "\n",
    "    # Transform 3D point cloud from camera coordinates to robot coordinates\n",
    "    surface_pts = np.transpose(np.dot(cam_pose[0:3,0:3],np.transpose(surface_pts)) + np.tile(cam_pose[0:3,3:],(1,surface_pts.shape[0])))\n",
    "    \n",
    "    # Sort surface points by z value\n",
    "    sort_z_ind = np.argsort(surface_pts[:,2])\n",
    "    surface_pts = surface_pts[sort_z_ind]\n",
    "    color_pts = color_pts[sort_z_ind]\n",
    "    \n",
    "    # Filter out surface points outside heightmap boundaries\n",
    "    heightmap_valid_ind = np.logical_and(np.logical_and(np.logical_and(np.logical_and(surface_pts[:,0] >= workspace_limits[0][0], surface_pts[:,0] < workspace_limits[0][1]), surface_pts[:,1] >= workspace_limits[1][0]), surface_pts[:,1] < workspace_limits[1][1]), surface_pts[:,2] < workspace_limits[2][1])\n",
    "    surface_pts = surface_pts[heightmap_valid_ind]\n",
    "    color_pts = color_pts[heightmap_valid_ind]\n",
    "    \n",
    "    # Create orthographic top-down-view RGB-D heightmaps\n",
    "    color_heightmap_r = np.zeros((heightmap_size[0], heightmap_size[1], 1), dtype=np.uint8)\n",
    "    color_heightmap_g = np.zeros((heightmap_size[0], heightmap_size[1], 1), dtype=np.uint8)\n",
    "    color_heightmap_b = np.zeros((heightmap_size[0], heightmap_size[1], 1), dtype=np.uint8)\n",
    "    depth_heightmap = np.zeros(heightmap_size)\n",
    "    heightmap_pix_x = np.floor((surface_pts[:,0] - workspace_limits[0][0])/heightmap_resolution).astype(int)\n",
    "    heightmap_pix_y = np.floor((surface_pts[:,1] - workspace_limits[1][0])/heightmap_resolution).astype(int)\n",
    "    color_heightmap_r[heightmap_pix_y,heightmap_pix_x] = color_pts[:,[0]]\n",
    "    color_heightmap_g[heightmap_pix_y,heightmap_pix_x] = color_pts[:,[1]]\n",
    "    color_heightmap_b[heightmap_pix_y,heightmap_pix_x] = color_pts[:,[2]]\n",
    "    color_heightmap = np.concatenate((color_heightmap_r, color_heightmap_g, color_heightmap_b), axis=2)\n",
    "    depth_heightmap[heightmap_pix_y,heightmap_pix_x] = surface_pts[:,2]\n",
    "    z_bottom = workspace_limits[2][0]\n",
    "    depth_heightmap = depth_heightmap - z_bottom\n",
    "    depth_heightmap[depth_heightmap < 0] = 0\n",
    "    depth_heightmap[depth_heightmap == -z_bottom] = np.nan\n",
    "#     print('len(depth_heightmap == -z_bottom) = {}'.format(len(depth_heightmap == -z_bottom)))\n",
    "#     print('Any nan values in depth_heightmap: {}'.format(np.any(depth_heightmap == np.nan, 1)))\n",
    "\n",
    "    return color_heightmap, depth_heightmap\n",
    "\n",
    "\n",
    "def get_rotated_img(img_tensor, theta_in_rad):\n",
    "    img = img_tensor\n",
    "    theta = theta_in_rad\n",
    "    theta_affine_matrix = np.array([[np.cos(theta), np.sin(theta), 0], [-np.sin(theta), np.cos(theta), 0]])\n",
    "    theta_affine_matrix = theta_affine_matrix.reshape(2, 3, 1)\n",
    "    theta_affine_matrix = torch.from_numpy(theta_affine_matrix).permute(2, 0, 1).float()\n",
    "    affine_grid = F.affine_grid(theta_affine_matrix, size=img.size())\n",
    "    rotated_img = F.grid_sample(img, affine_grid, mode='nearest')\n",
    "    \n",
    "    return rotated_img\n",
    "\n",
    "\n",
    "# def rotate(img):\n",
    "#     row, col, channel = img.shape\n",
    "#     angle = np.random.uniform(-15, 15)\n",
    "#     rotation_point = (row / 2, col / 2)\n",
    "#     rotation_matrix = cv2.getRotationMatrix2D(rotation_point, angle, 1)\n",
    "#     rotated_img = cv2.warpAffine(img, rotation_matrix, (col, row))\n",
    "    \n",
    "# #     rot_mat = cv2.getRotationMatrix2D((img.shape[1]/2, img.shape[0]/2), 45, 1)\n",
    "# #     warp_rotate_dst = cv2.warpAffine(cv2.UMat(img),rot_mat, (img.shape[1], img.shape[0]), flags=cv2.INTER_NEAREST).get()\n",
    "\n",
    "#     return rotated_img \n",
    "\n",
    "\n"
   ]
  },
  {
   "cell_type": "code",
   "execution_count": 9,
   "metadata": {},
   "outputs": [
    {
     "ename": "AttributeError",
     "evalue": "'NoneType' object has no attribute 'shape'",
     "output_type": "error",
     "traceback": [
      "\u001b[0;31m---------------------------------------------------------------------------\u001b[0m",
      "\u001b[0;31mAttributeError\u001b[0m                            Traceback (most recent call last)",
      "\u001b[0;32m<ipython-input-9-b17d86adf2d3>\u001b[0m in \u001b[0;36m<module>\u001b[0;34m\u001b[0m\n\u001b[1;32m      1\u001b[0m \u001b[0mget_ipython\u001b[0m\u001b[0;34m(\u001b[0m\u001b[0;34m)\u001b[0m\u001b[0;34m.\u001b[0m\u001b[0mrun_line_magic\u001b[0m\u001b[0;34m(\u001b[0m\u001b[0;34m'matplotlib'\u001b[0m\u001b[0;34m,\u001b[0m \u001b[0;34m'notebook'\u001b[0m\u001b[0;34m)\u001b[0m\u001b[0;34m\u001b[0m\u001b[0;34m\u001b[0m\u001b[0m\n\u001b[1;32m      2\u001b[0m \u001b[0mcam_intrinsics\u001b[0m \u001b[0;34m=\u001b[0m \u001b[0mnp\u001b[0m\u001b[0;34m.\u001b[0m\u001b[0masarray\u001b[0m\u001b[0;34m(\u001b[0m\u001b[0;34m[\u001b[0m\u001b[0;34m[\u001b[0m\u001b[0;36m618.62\u001b[0m\u001b[0;34m,\u001b[0m \u001b[0;36m0\u001b[0m\u001b[0;34m,\u001b[0m \u001b[0;36m320\u001b[0m\u001b[0;34m]\u001b[0m\u001b[0;34m,\u001b[0m \u001b[0;34m[\u001b[0m\u001b[0;36m0\u001b[0m\u001b[0;34m,\u001b[0m \u001b[0;36m618.62\u001b[0m\u001b[0;34m,\u001b[0m \u001b[0;36m240\u001b[0m\u001b[0;34m]\u001b[0m\u001b[0;34m,\u001b[0m \u001b[0;34m[\u001b[0m\u001b[0;36m0\u001b[0m\u001b[0;34m,\u001b[0m \u001b[0;36m0\u001b[0m\u001b[0;34m,\u001b[0m \u001b[0;36m1\u001b[0m\u001b[0;34m]\u001b[0m\u001b[0;34m]\u001b[0m\u001b[0;34m)\u001b[0m\u001b[0;34m\u001b[0m\u001b[0;34m\u001b[0m\u001b[0m\n\u001b[0;32m----> 3\u001b[0;31m \u001b[0mcam_pts\u001b[0m\u001b[0;34m,\u001b[0m \u001b[0mrgb_pts\u001b[0m \u001b[0;34m=\u001b[0m \u001b[0mget_pointcloud\u001b[0m\u001b[0;34m(\u001b[0m\u001b[0mcolor_img\u001b[0m\u001b[0;34m,\u001b[0m \u001b[0mdepth_img\u001b[0m\u001b[0;34m,\u001b[0m \u001b[0mcam_intrinsics\u001b[0m\u001b[0;34m)\u001b[0m\u001b[0;34m\u001b[0m\u001b[0;34m\u001b[0m\u001b[0m\n\u001b[0m\u001b[1;32m      4\u001b[0m \u001b[0;34m\u001b[0m\u001b[0m\n\u001b[1;32m      5\u001b[0m \u001b[0;31m# Camera pose with respect to the global frame\u001b[0m\u001b[0;34m\u001b[0m\u001b[0;34m\u001b[0m\u001b[0;34m\u001b[0m\u001b[0m\n",
      "\u001b[0;32m<ipython-input-8-02e61d299b34>\u001b[0m in \u001b[0;36mget_pointcloud\u001b[0;34m(color_img, depth_img, camera_intrinsics)\u001b[0m\n\u001b[1;32m      1\u001b[0m \u001b[0;32mdef\u001b[0m \u001b[0mget_pointcloud\u001b[0m\u001b[0;34m(\u001b[0m\u001b[0mcolor_img\u001b[0m\u001b[0;34m,\u001b[0m \u001b[0mdepth_img\u001b[0m\u001b[0;34m,\u001b[0m \u001b[0mcamera_intrinsics\u001b[0m\u001b[0;34m)\u001b[0m\u001b[0;34m:\u001b[0m\u001b[0;34m\u001b[0m\u001b[0;34m\u001b[0m\u001b[0m\n\u001b[1;32m      2\u001b[0m     \u001b[0;31m# Get depth image size\u001b[0m\u001b[0;34m\u001b[0m\u001b[0;34m\u001b[0m\u001b[0;34m\u001b[0m\u001b[0m\n\u001b[0;32m----> 3\u001b[0;31m     \u001b[0mim_h\u001b[0m \u001b[0;34m=\u001b[0m \u001b[0mdepth_img\u001b[0m\u001b[0;34m.\u001b[0m\u001b[0mshape\u001b[0m\u001b[0;34m[\u001b[0m\u001b[0;36m0\u001b[0m\u001b[0;34m]\u001b[0m\u001b[0;34m\u001b[0m\u001b[0;34m\u001b[0m\u001b[0m\n\u001b[0m\u001b[1;32m      4\u001b[0m     \u001b[0mim_w\u001b[0m \u001b[0;34m=\u001b[0m \u001b[0mdepth_img\u001b[0m\u001b[0;34m.\u001b[0m\u001b[0mshape\u001b[0m\u001b[0;34m[\u001b[0m\u001b[0;36m1\u001b[0m\u001b[0;34m]\u001b[0m\u001b[0;34m\u001b[0m\u001b[0;34m\u001b[0m\u001b[0m\n\u001b[1;32m      5\u001b[0m \u001b[0;34m\u001b[0m\u001b[0m\n",
      "\u001b[0;31mAttributeError\u001b[0m: 'NoneType' object has no attribute 'shape'"
     ]
    }
   ],
   "source": [
    "%matplotlib notebook\n",
    "cam_intrinsics = np.asarray([[618.62, 0, 320], [0, 618.62, 240], [0, 0, 1]])\n",
    "cam_pts, rgb_pts = get_pointcloud(color_img, depth_img, cam_intrinsics)\n",
    "\n",
    "# Camera pose with respect to the global frame\n",
    "cam_pose = np.asarray([[1, 0, 0, 0], \n",
    "[0, -0.7071069478988647, -0.7071068286895752, 1], \n",
    "[0, 0.7071068286895752, -0.7071069478988647, 0.5]])\n",
    "\n",
    "\n",
    "cam_pose = np.asarray([[ 1.37678730e-07, -7.07106555e-01,  7.07107007e-01, -1.00000000e+00],\n",
    " [-1.00000000e+00, -6.38652273e-07, -4.43944800e-07,  0.00000000e+00],\n",
    " [ 7.65511775e-07, -7.07107007e-01, -7.07106555e-01,  5.00000000e-01],\n",
    " [ 0.00000000e+00,  0.00000000e+00,  0.00000000e+00,  1.00000000e+00]])\n",
    "\n",
    "\n",
    "\n",
    "cam_pts = np.transpose(np.dot(cam_pose[:3, :3], np.transpose(cam_pts)) + np.tile(cam_pose[:3, 3].reshape(-1, 1), (1, cam_pts.shape[0])))\n",
    "\n",
    "fig = plt.figure()\n",
    "ax = fig.add_subplot(111, projection='3d')\n",
    "ax.plot(cam_pts[:, 0], cam_pts[:, 1], cam_pts[:, 2])\n",
    "ax.set_ylim(0.2, 1)"
   ]
  },
  {
   "cell_type": "code",
   "execution_count": 10,
   "metadata": {},
   "outputs": [
    {
     "ename": "AttributeError",
     "evalue": "'NoneType' object has no attribute 'shape'",
     "output_type": "error",
     "traceback": [
      "\u001b[0;31m---------------------------------------------------------------------------\u001b[0m",
      "\u001b[0;31mAttributeError\u001b[0m                            Traceback (most recent call last)",
      "\u001b[0;32m<ipython-input-10-de98fde6cb5d>\u001b[0m in \u001b[0;36m<module>\u001b[0;34m\u001b[0m\n\u001b[1;32m     10\u001b[0m  [ 0.00000000e+00,  0.00000000e+00,  0.00000000e+00,  1.00000000e+00]])\n\u001b[1;32m     11\u001b[0m \u001b[0;34m\u001b[0m\u001b[0m\n\u001b[0;32m---> 12\u001b[0;31m \u001b[0mcolor_heightmap\u001b[0m\u001b[0;34m,\u001b[0m \u001b[0mdepth_heightmap\u001b[0m \u001b[0;34m=\u001b[0m \u001b[0mget_heightmap\u001b[0m\u001b[0;34m(\u001b[0m\u001b[0mcolor_img\u001b[0m\u001b[0;34m,\u001b[0m \u001b[0mdepth_img\u001b[0m\u001b[0;34m,\u001b[0m \u001b[0mcam_intrinsics\u001b[0m\u001b[0;34m,\u001b[0m \u001b[0mcam_pose\u001b[0m\u001b[0;34m,\u001b[0m \u001b[0mworkspace_limits\u001b[0m\u001b[0;34m,\u001b[0m \u001b[0mheightmap_resolution\u001b[0m\u001b[0;34m)\u001b[0m\u001b[0;34m\u001b[0m\u001b[0;34m\u001b[0m\u001b[0m\n\u001b[0m\u001b[1;32m     13\u001b[0m \u001b[0;34m\u001b[0m\u001b[0m\n\u001b[1;32m     14\u001b[0m \u001b[0;34m\u001b[0m\u001b[0m\n",
      "\u001b[0;32m<ipython-input-8-02e61d299b34>\u001b[0m in \u001b[0;36mget_heightmap\u001b[0;34m(color_img, depth_img, cam_intrinsics, cam_pose, workspace_limits, heightmap_resolution)\u001b[0m\n\u001b[1;32m     36\u001b[0m \u001b[0;34m\u001b[0m\u001b[0m\n\u001b[1;32m     37\u001b[0m     \u001b[0;31m# Get 3D point cloud from RGB-D images\u001b[0m\u001b[0;34m\u001b[0m\u001b[0;34m\u001b[0m\u001b[0;34m\u001b[0m\u001b[0m\n\u001b[0;32m---> 38\u001b[0;31m     \u001b[0msurface_pts\u001b[0m\u001b[0;34m,\u001b[0m \u001b[0mcolor_pts\u001b[0m \u001b[0;34m=\u001b[0m \u001b[0mget_pointcloud\u001b[0m\u001b[0;34m(\u001b[0m\u001b[0mcolor_img\u001b[0m\u001b[0;34m,\u001b[0m \u001b[0mdepth_img\u001b[0m\u001b[0;34m,\u001b[0m \u001b[0mcam_intrinsics\u001b[0m\u001b[0;34m)\u001b[0m\u001b[0;34m\u001b[0m\u001b[0;34m\u001b[0m\u001b[0m\n\u001b[0m\u001b[1;32m     39\u001b[0m \u001b[0;34m\u001b[0m\u001b[0m\n\u001b[1;32m     40\u001b[0m     \u001b[0;31m# Transform 3D point cloud from camera coordinates to robot coordinates\u001b[0m\u001b[0;34m\u001b[0m\u001b[0;34m\u001b[0m\u001b[0;34m\u001b[0m\u001b[0m\n",
      "\u001b[0;32m<ipython-input-8-02e61d299b34>\u001b[0m in \u001b[0;36mget_pointcloud\u001b[0;34m(color_img, depth_img, camera_intrinsics)\u001b[0m\n\u001b[1;32m      1\u001b[0m \u001b[0;32mdef\u001b[0m \u001b[0mget_pointcloud\u001b[0m\u001b[0;34m(\u001b[0m\u001b[0mcolor_img\u001b[0m\u001b[0;34m,\u001b[0m \u001b[0mdepth_img\u001b[0m\u001b[0;34m,\u001b[0m \u001b[0mcamera_intrinsics\u001b[0m\u001b[0;34m)\u001b[0m\u001b[0;34m:\u001b[0m\u001b[0;34m\u001b[0m\u001b[0;34m\u001b[0m\u001b[0m\n\u001b[1;32m      2\u001b[0m     \u001b[0;31m# Get depth image size\u001b[0m\u001b[0;34m\u001b[0m\u001b[0;34m\u001b[0m\u001b[0;34m\u001b[0m\u001b[0m\n\u001b[0;32m----> 3\u001b[0;31m     \u001b[0mim_h\u001b[0m \u001b[0;34m=\u001b[0m \u001b[0mdepth_img\u001b[0m\u001b[0;34m.\u001b[0m\u001b[0mshape\u001b[0m\u001b[0;34m[\u001b[0m\u001b[0;36m0\u001b[0m\u001b[0;34m]\u001b[0m\u001b[0;34m\u001b[0m\u001b[0;34m\u001b[0m\u001b[0m\n\u001b[0m\u001b[1;32m      4\u001b[0m     \u001b[0mim_w\u001b[0m \u001b[0;34m=\u001b[0m \u001b[0mdepth_img\u001b[0m\u001b[0;34m.\u001b[0m\u001b[0mshape\u001b[0m\u001b[0;34m[\u001b[0m\u001b[0;36m1\u001b[0m\u001b[0;34m]\u001b[0m\u001b[0;34m\u001b[0m\u001b[0;34m\u001b[0m\u001b[0m\n\u001b[1;32m      5\u001b[0m \u001b[0;34m\u001b[0m\u001b[0m\n",
      "\u001b[0;31mAttributeError\u001b[0m: 'NoneType' object has no attribute 'shape'"
     ]
    }
   ],
   "source": [
    "%matplotlib inline\n",
    "\n",
    "\n",
    "cam_intrinsics = np.asarray([[618.62, 0, 320], [0, 618.62, 240], [0, 0, 1]])\n",
    "workspace_limits = np.asarray([[-0.75, -0.25], [-0.25, 0.25], [0.0001, 0.4]])#  [-0.1, 1]\n",
    "heightmap_resolution = 0.002\n",
    "cam_pose = np.asarray([[ 1.37678730e-07, -7.07106555e-01,  7.07107007e-01, -1.00000000e+00],\n",
    " [-1.00000000e+00, -6.38652273e-07, -4.43944800e-07,  0.00000000e+00],\n",
    " [ 7.65511775e-07, -7.07107007e-01, -7.07106555e-01,  5.00000000e-01],\n",
    " [ 0.00000000e+00,  0.00000000e+00,  0.00000000e+00,  1.00000000e+00]])\n",
    "\n",
    "color_heightmap, depth_heightmap = get_heightmap(color_img, depth_img, cam_intrinsics, cam_pose, workspace_limits, heightmap_resolution)\n",
    "\n",
    "    \n",
    "\n",
    "print(color_heightmap.shape)\n",
    "print(depth_heightmap.shape)\n",
    "print(np.min(color_heightmap))\n",
    "print(np.max(color_heightmap))\n",
    "print(len(depth_heightmap[depth_heightmap == np.nan]))\n",
    "f, ax = plt.subplots(nrows=1, ncols=2, figsize=(20, 10))\n",
    "f.tight_layout()\n",
    "ax[0].imshow(color_heightmap)\n",
    "ax[1].imshow(depth_heightmap, cmap='gray')"
   ]
  },
  {
   "cell_type": "code",
   "execution_count": null,
   "metadata": {},
   "outputs": [],
   "source": []
  },
  {
   "cell_type": "code",
   "execution_count": 11,
   "metadata": {},
   "outputs": [
    {
     "ename": "AttributeError",
     "evalue": "'NoneType' object has no attribute 'astype'",
     "output_type": "error",
     "traceback": [
      "\u001b[0;31m---------------------------------------------------------------------------\u001b[0m",
      "\u001b[0;31mAttributeError\u001b[0m                            Traceback (most recent call last)",
      "\u001b[0;32m<ipython-input-11-b40b4f3a1919>\u001b[0m in \u001b[0;36m<module>\u001b[0;34m\u001b[0m\n\u001b[1;32m      1\u001b[0m \u001b[0mdepth_heightmap\u001b[0m \u001b[0;34m=\u001b[0m \u001b[0mcv2\u001b[0m\u001b[0;34m.\u001b[0m\u001b[0mimread\u001b[0m\u001b[0;34m(\u001b[0m\u001b[0;34m'/home/mohamed/drive/coppelia_stuff/scripts/logs/'\u001b[0m\u001b[0;34m+\u001b[0m \u001b[0mlog_file\u001b[0m \u001b[0;34m+\u001b[0m \u001b[0;34m'/data/depth-heightmaps/000001.0.depth.png'\u001b[0m\u001b[0;34m,\u001b[0m \u001b[0;34m-\u001b[0m\u001b[0;36m1\u001b[0m\u001b[0;34m)\u001b[0m\u001b[0;34m\u001b[0m\u001b[0;34m\u001b[0m\u001b[0m\n\u001b[0;32m----> 2\u001b[0;31m \u001b[0mdepth_heightmap\u001b[0m \u001b[0;34m=\u001b[0m \u001b[0mdepth_heightmap\u001b[0m\u001b[0;34m.\u001b[0m\u001b[0mastype\u001b[0m\u001b[0;34m(\u001b[0m\u001b[0mnp\u001b[0m\u001b[0;34m.\u001b[0m\u001b[0mfloat32\u001b[0m\u001b[0;34m)\u001b[0m\u001b[0;34m/\u001b[0m\u001b[0;36m100000\u001b[0m\u001b[0;34m\u001b[0m\u001b[0;34m\u001b[0m\u001b[0m\n\u001b[0m\u001b[1;32m      3\u001b[0m \u001b[0;34m\u001b[0m\u001b[0m\n\u001b[1;32m      4\u001b[0m \u001b[0mcolor_heightmap\u001b[0m \u001b[0;34m=\u001b[0m \u001b[0mcv2\u001b[0m\u001b[0;34m.\u001b[0m\u001b[0mimread\u001b[0m\u001b[0;34m(\u001b[0m\u001b[0;34m'/home/mohamed/drive/coppelia_stuff/scripts/logs/'\u001b[0m\u001b[0;34m+\u001b[0m \u001b[0mlog_file\u001b[0m \u001b[0;34m+\u001b[0m \u001b[0;34m'/data/color-heightmaps/000001.0.color.png'\u001b[0m\u001b[0;34m,\u001b[0m \u001b[0;34m-\u001b[0m\u001b[0;36m1\u001b[0m\u001b[0;34m)\u001b[0m\u001b[0;34m\u001b[0m\u001b[0;34m\u001b[0m\u001b[0m\n\u001b[1;32m      5\u001b[0m \u001b[0mcolor_heightmap\u001b[0m \u001b[0;34m=\u001b[0m \u001b[0mcv2\u001b[0m\u001b[0;34m.\u001b[0m\u001b[0mcvtColor\u001b[0m\u001b[0;34m(\u001b[0m\u001b[0mcolor_heightmap\u001b[0m\u001b[0;34m,\u001b[0m \u001b[0mcv2\u001b[0m\u001b[0;34m.\u001b[0m\u001b[0mCOLOR_BGR2RGB\u001b[0m\u001b[0;34m)\u001b[0m\u001b[0;34m\u001b[0m\u001b[0;34m\u001b[0m\u001b[0m\n",
      "\u001b[0;31mAttributeError\u001b[0m: 'NoneType' object has no attribute 'astype'"
     ]
    }
   ],
   "source": [
    "depth_heightmap = cv2.imread('/home/mohamed/drive/coppelia_stuff/scripts/logs/'+ log_file + '/data/depth-heightmaps/000001.0.depth.png', -1)\n",
    "depth_heightmap = depth_heightmap.astype(np.float32)/100000\n",
    "\n",
    "color_heightmap = cv2.imread('/home/mohamed/drive/coppelia_stuff/scripts/logs/'+ log_file + '/data/color-heightmaps/000001.0.color.png', -1)\n",
    "color_heightmap = cv2.cvtColor(color_heightmap, cv2.COLOR_BGR2RGB)\n",
    "\n",
    "f, ax = plt.subplots(nrows=1, ncols=2, figsize=(20, 10))\n",
    "f.tight_layout()\n",
    "ax[0].imshow(color_heightmap)\n",
    "ax[1].imshow(depth_heightmap, cmap='gray')"
   ]
  },
  {
   "cell_type": "code",
   "execution_count": 5,
   "metadata": {},
   "outputs": [
    {
     "name": "stdout",
     "output_type": "stream",
     "text": [
      "(200, 200, 3)\n"
     ]
    },
    {
     "data": {
      "text/plain": [
       "(-0.5, 639.5, 479.5, -0.5)"
      ]
     },
     "execution_count": 5,
     "metadata": {},
     "output_type": "execute_result"
    },
    {
     "data": {
      "image/png": "[encoded data removed]",
      "text/plain": [
       "<Figure size 1440x720 with 1 Axes>"
      ]
     },
     "metadata": {
      "needs_background": "light"
     },
     "output_type": "display_data"
    }
   ],
   "source": [
    "from skimage.transform import rescale, resize, downscale_local_mean, rotate\n",
    "\n",
    "color_heightmap = cv2.imread('/home/mohamed/Downloads/thesis_stuff/images/cup_images/cup_color_heightmap.png')\n",
    "depth_heightmap = cv2.imread('/home/mohamed/Downloads/thesis_stuff/images/cup_images/cup_depth_heightmap.png')\n",
    "# best = cv2.imread('/home/mohamed/Downloads/thesis_stuff/pouring_images/pour_best.png')\n",
    "color_heightmap = cv2.cvtColor(color_heightmap, cv2.COLOR_BGR2RGB)\n",
    "\n",
    "# color_heightmap = cv2.flip(color_heightmap, 1)\n",
    "# depth_heightmap = cv2.flip(depth_heightmap, 0)\n",
    "# best = cv2.flip(best, 1)\n",
    "\n",
    "depth_heightmap = ((depth_heightmap - np.min(depth_heightmap)) / (np.max(depth_heightmap) - np.min(depth_heightmap))) *255.0\n",
    "depth_heightmap[depth_heightmap > 0] += 100\n",
    "color_heightmap = depth_heightmap\n",
    "\n",
    "depth_img = cv2.imread('/home/mohamed/Downloads/thesis_stuff/images/cup_images/cup_depth_original.png')\n",
    "depth_img = ((depth_img - np.min(depth_img)) / (np.max(depth_img) - np.min(depth_img)))*255.0\n",
    "depth_img = depth_img.astype(np.float32)/10000\n",
    "\n",
    "angle_deg = -0\n",
    "CLIP = False\n",
    "img_rotated = rotate(color_heightmap, angle_deg, resize=True, center=None, order=1, mode='constant', cval=0, clip=CLIP, preserve_range=True).astype(np.uint8)\n",
    "print(img_rotated.shape)\n",
    "\n",
    "pad_axis_0 = int((img_rotated.shape[0]-color_heightmap.shape[0]) / 2)\n",
    "pad_axis_1 = int((img_rotated.shape[1]-color_heightmap.shape[1]) / 2)\n",
    "pad_axis_2 = 0\n",
    "\n",
    "color_heightmap = np.pad(color_heightmap, ((pad_axis_0, pad_axis_0), (pad_axis_1, pad_axis_1), (pad_axis_2, pad_axis_2)))\n",
    "\n",
    "f = plt.figure(figsize=(20, 10))\n",
    "f.tight_layout()\n",
    "plt.imshow(depth_img)\n",
    "plt.axis('off')\n",
    "cv2.imwrite('/home/mohamed/Downloads/thesis_stuff/images/cup_images/cup_depth_original_normalized.png', depth_img)\n",
    "# plt.savefig('/home/mohamed/drive/coppelia_stuff/scripts/depth_heightmap_padded_angle_45.png')\n",
    "# f, ax = plt.subplots(nrows=1, ncols=2, figsize=(20, 10))\n",
    "# f.tight_layout()\n",
    "# ax[0].imshow(color_heightmap)\n",
    "# ax[1].imshow(img_rotated)\n",
    "# plt.show()\n"
   ]
  },
  {
   "cell_type": "markdown",
   "metadata": {},
   "source": [
    "# Don't forget that there was another gradient for the rotated depth image that was somewhat darker."
   ]
  },
  {
   "cell_type": "code",
   "execution_count": 8,
   "metadata": {},
   "outputs": [
    {
     "name": "stdout",
     "output_type": "stream",
     "text": [
      "img nanmin:  0.0\n",
      "img nanmax:  0.04991\n",
      "(250, 250, 1)\n",
      "img nanmin:  0.0\n",
      "img nanmax:  0.04991\n",
      "rotated_img nanmin:  0.0\n",
      "rotated_img nanmax:  0.04991\n",
      "old_img min:  0.0\n",
      "old_img max:  0.04991\n"
     ]
    },
    {
     "name": "stderr",
     "output_type": "stream",
     "text": [
      "/home/mohamed/drive/miniconda3/envs/drlnd/lib/python3.6/site-packages/torch/nn/functional.py:2751: UserWarning: Default grid_sample and affine_grid behavior will be changed to align_corners=False from 1.4.0. See the documentation of grid_sample for details.\n",
      "  warnings.warn(\"Default grid_sample and affine_grid behavior will be changed \"\n",
      "/home/mohamed/drive/miniconda3/envs/drlnd/lib/python3.6/site-packages/torch/nn/functional.py:2693: UserWarning: Default grid_sample and affine_grid behavior will be changed to align_corners=False from 1.4.0. See the documentation of grid_sample for details.\n",
      "  warnings.warn(\"Default grid_sample and affine_grid behavior will be changed \"\n"
     ]
    },
    {
     "data": {
      "text/plain": [
       "<matplotlib.image.AxesImage at 0x7feccd3f6a20>"
      ]
     },
     "execution_count": 8,
     "metadata": {},
     "output_type": "execute_result"
    },
    {
     "data": {
      "image/png": "[encoded data removed]",
      "text/plain": [
       "<Figure size 1440x720 with 2 Axes>"
      ]
     },
     "metadata": {
      "needs_background": "light"
     },
     "output_type": "display_data"
    }
   ],
   "source": [
    "img = copy.deepcopy(depth_heightmap)\n",
    "img = img.reshape((img.shape[0], img.shape[1], -1))\n",
    "print(\"img nanmin: \", np.nanmin(img))\n",
    "print(\"img nanmax: \", np.nanmax(img))\n",
    "\n",
    "print(img.shape)\n",
    "img = img.reshape((1, img.shape[2], img.shape[0], img.shape[1]))\n",
    "img = torch.from_numpy(img).float()\n",
    "print(\"img nanmin: \", np.nanmin(img))\n",
    "print(\"img nanmax: \", np.nanmax(img))\n",
    "\n",
    "theta = -np.radians(45)\n",
    "rotated_img = get_rotated_img(img, theta)\n",
    "rotated_img = rotated_img.squeeze(0).numpy().transpose(1, 2, 0).squeeze()\n",
    "print(\"rotated_img nanmin: \", np.nanmin(rotated_img))\n",
    "print(\"rotated_img nanmax: \", np.nanmax(rotated_img))\n",
    "\n",
    "old_img = img.numpy().reshape((img.shape[2], img.shape[3], img.shape[1])).squeeze()\n",
    "print(\"old_img min: \", np.nanmin(old_img))\n",
    "print(\"old_img max: \", np.nanmax(old_img))\n",
    "\n",
    "\n",
    "\n",
    "f, ax = plt.subplots(nrows=1, ncols=2, figsize=(20, 10))\n",
    "ax[1].imshow(rotated_img, cmap='gray')\n",
    "ax[0].imshow(old_img, cmap='gray')\n"
   ]
  },
  {
   "cell_type": "code",
   "execution_count": 9,
   "metadata": {},
   "outputs": [
    {
     "name": "stdout",
     "output_type": "stream",
     "text": [
      "img.min(): 0.0\n",
      "img.max(): 0.8549019694328308\n",
      "rotated img.min(): 0.0\n",
      "rotated img.max(): 0.8549019694328308\n"
     ]
    },
    {
     "data": {
      "text/plain": [
       "<matplotlib.image.AxesImage at 0x7feccd31eb38>"
      ]
     },
     "execution_count": 9,
     "metadata": {},
     "output_type": "execute_result"
    },
    {
     "data": {
      "image/png": "[encoded data removed]",
      "text/plain": [
       "<Figure size 1440x1440 with 2 Axes>"
      ]
     },
     "metadata": {
      "needs_background": "light"
     },
     "output_type": "display_data"
    }
   ],
   "source": [
    "img = copy.deepcopy(color_heightmap)\n",
    "\n",
    "img = torch.from_numpy(img).permute(2, 0, 1).unsqueeze(0).float()/255\n",
    "print('img.min(): {}'.format(img.min()))\n",
    "print('img.max(): {}'.format(img.max()))\n",
    "\n",
    "theta = -np.radians(45)\n",
    "rotated_img = get_rotated_img(img, theta)\n",
    "rotated_img = rotated_img.squeeze(0).numpy().transpose(1, 2, 0)\n",
    "print('rotated img.min(): {}'.format(img.min()))\n",
    "print('rotated img.max(): {}'.format(img.max()))\n",
    "\n",
    "\n",
    "f, ax = plt.subplots(nrows=1, ncols=2, figsize=(20, 20))\n",
    "# ax[0].imshow((img.numpy().squeeze().transpose(1, 2, 0)*255).astype(np.uint8))\n",
    "ax[0].imshow((img.numpy().squeeze().transpose(1, 2, 0)))\n",
    "ax[1].imshow(rotated_img)"
   ]
  },
  {
   "cell_type": "code",
   "execution_count": 10,
   "metadata": {},
   "outputs": [
    {
     "data": {
      "image/png": "[encoded data removed]",
      "text/plain": [
       "<Figure size 576x288 with 1 Axes>"
      ]
     },
     "metadata": {
      "needs_background": "light"
     },
     "output_type": "display_data"
    },
    {
     "name": "stdout",
     "output_type": "stream",
     "text": [
      "torch.Size([1, 3, 250, 250])\n"
     ]
    },
    {
     "data": {
      "image/png": "[encoded data removed]",
      "text/plain": [
       "<Figure size 576x288 with 1 Axes>"
      ]
     },
     "metadata": {
      "needs_background": "light"
     },
     "output_type": "display_data"
    }
   ],
   "source": [
    "\n",
    "\n",
    "\"\"\"1. Load image and landmarks\"\"\"\n",
    "image = copy.deepcopy(color_heightmap)\n",
    "show_image(image)\n",
    "\n",
    "\n",
    "\n",
    "# \"\"\"5.Warp image to tensor_img using grid_sample\"\"\"\n",
    "to_tensor = torchvision.transforms.ToTensor()\n",
    "# tensor_img = to_tensor(image).unsqueeze(0)\n",
    "tensor_img = torch.from_numpy(image).permute(2, 0, 1).unsqueeze(0).float()/255\n",
    "print(tensor_img.shape)\n",
    "\n",
    "theta = -np.radians(45)\n",
    "theta_affine_matrix = np.array([[np.cos(theta), np.sin(theta), 0], [-np.sin(theta), np.cos(theta), 0]])\n",
    "theta_affine_matrix = theta_affine_matrix.reshape(2, 3, 1)\n",
    "theta_affine_matrix = torch.from_numpy(theta_affine_matrix).permute(2, 0, 1).float()\n",
    "\n",
    "grid = F.affine_grid(theta_affine_matrix, tensor_img.size())\n",
    "tensor_img = F.grid_sample(tensor_img, grid, mode='nearest')\n",
    "tensor_img = tensor_img.squeeze(0)\n",
    "warp_img = convert_image_np(tensor_img)\n",
    "show_image(warp_img)\n"
   ]
  },
  {
   "cell_type": "code",
   "execution_count": 11,
   "metadata": {},
   "outputs": [
    {
     "data": {
      "image/png": "[encoded data removed]",
      "text/plain": [
       "<Figure size 576x288 with 1 Axes>"
      ]
     },
     "metadata": {
      "needs_background": "light"
     },
     "output_type": "display_data"
    },
    {
     "name": "stdout",
     "output_type": "stream",
     "text": [
      "torch.Size([1, 1, 250, 250])\n"
     ]
    },
    {
     "data": {
      "image/png": "[encoded data removed]",
      "text/plain": [
       "<Figure size 576x288 with 1 Axes>"
      ]
     },
     "metadata": {
      "needs_background": "light"
     },
     "output_type": "display_data"
    }
   ],
   "source": [
    "image = copy.deepcopy(depth_heightmap)\n",
    "show_image(image, gray=True)\n",
    "\n",
    "\n",
    "to_tensor = torchvision.transforms.ToTensor()\n",
    "# tensor_img = to_tensor(image).unsqueeze(0).float()\n",
    "tensor_img = torch.from_numpy(image).unsqueeze(0).unsqueeze(0).float()\n",
    "print(tensor_img.size())\n",
    "\n",
    "grid = F.affine_grid(theta_affine_matrix, tensor_img.size())\n",
    "tensor_img = F.grid_sample(tensor_img, grid, mode='nearest')\n",
    "tensor_img = tensor_img.squeeze(0)\n",
    "warp_img = convert_image_np(tensor_img)\n",
    "show_image(warp_img.squeeze(), gray=True)"
   ]
  },
  {
   "cell_type": "code",
   "execution_count": null,
   "metadata": {},
   "outputs": [],
   "source": []
  },
  {
   "cell_type": "code",
   "execution_count": null,
   "metadata": {},
   "outputs": [],
   "source": []
  }
 ],
 "metadata": {
  "kernelspec": {
   "display_name": "drlnd",
   "language": "python",
   "name": "drlnd"
  },
  "language_info": {
   "codemirror_mode": {
    "name": "ipython",
    "version": 3
   },
   "file_extension": ".py",
   "mimetype": "text/x-python",
   "name": "python",
   "nbconvert_exporter": "python",
   "pygments_lexer": "ipython3",
   "version": "3.6.9"
  }
 },
 "nbformat": 4,
 "nbformat_minor": 2
}
